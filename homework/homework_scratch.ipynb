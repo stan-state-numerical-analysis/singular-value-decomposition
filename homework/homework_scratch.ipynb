{
 "cells": [
  {
   "cell_type": "markdown",
   "metadata": {},
   "source": [
    "# Task 1"
   ]
  },
  {
   "cell_type": "code",
   "execution_count": null,
   "metadata": {},
   "outputs": [],
   "source": [
    "# Task: Implement Singular Value Decomposition (SVD) from Scratch\n",
    "\n",
    "# 1. Import numpy with its corresponding alias."
   ]
  },
  {
   "cell_type": "code",
   "execution_count": null,
   "metadata": {},
   "outputs": [],
   "source": [
    "# 2. Set the numpy random seed to 13."
   ]
  },
  {
   "cell_type": "code",
   "execution_count": null,
   "metadata": {},
   "outputs": [],
   "source": [
    "# 3. Define a function called complete_orthonormal_basis that ensures all columns of U are orthonormal.\n",
    "#    - Parameters:\n",
    "#      - U: The matrix where some columns might be zero vectors.\n",
    "\n",
    "\n",
    "\n",
    "    # 4. Iterate over the columns of U.\n",
    "\n",
    "\n",
    "\n",
    "        # 5. If the column is approximately the zero vector, we will replace it with\n",
    "        # a standard basis vector. Use the allclose comparison operator from numpy\n",
    "        # to check if it is approximately the zero vector.\n",
    "\n",
    "\n",
    "\n",
    "            # 6. Create a standard basis vector with a 1 in the position of the\n",
    "            # current column index, call it new_vector .\n",
    "\n",
    "\n",
    "\n",
    "            # 7. Apply Gram-Schmidt process to make new_vector orthogonal to previous columns.\n",
    "\n",
    "\n",
    "\n",
    "            # 8. Normalize the new vector.\n",
    "\n",
    "\n",
    "\n",
    "            # 9. Replace the zero column with the orthonormal vector.\n",
    "\n",
    "\n",
    "\n",
    "    # 10. Return the updated matrix U."
   ]
  },
  {
   "cell_type": "code",
   "execution_count": null,
   "metadata": {},
   "outputs": [],
   "source": [
    "# 11. Define a function called svd that computes the Singular Value Decomposition of a matrix A.\n",
    "#     - Parameters:\n",
    "#       - A: The matrix to decompose.\n",
    "#     - Return:\n",
    "#       - U, Sigma, Vt: The decomposed matrices.\n",
    "\n",
    "\n",
    "\n",
    "    # 12. Use the np.linalg.eig method to find the eigenvalues and eigenvectors\n",
    "    # of A^T * A. Call the pair eigenvalues, V (so V is the set of eigenvalues as columns).\n",
    "\n",
    "\n",
    "\n",
    "    # 13. Use the np.argsort method to obtain the order of indices to\n",
    "    # sort the eigenvalues *from biggest to smallest*. Call the output sorted_indices.\n",
    "\n",
    "\n",
    "\n",
    "    # 14. Compute the singular values as the square root of the sorted eigenvalues, take\n",
    "    # only the real parts (using numpy's real method) and sort the rows according\n",
    "    # to sorted_indices. Call the output Sigma.\n",
    "\n",
    "\n",
    "\n",
    "    # 15. Redefine V so that its *columns* use the sorted_indices ordering.\n",
    "\n",
    "\n",
    "\n",
    "    # 16. Define Sigma_rec to be the list of reciprocals of\n",
    "    # non-zero singular values (and 0 if they are 0).\n",
    "\n",
    "\n",
    "\n",
    "    # 17. Compute the U matrix using the corresponding formula and Sigma_rec defined\n",
    "    # above.\n",
    "\n",
    "    # 18. Ensure all columns of U are orthonormal using the complete_orthonormal_basis function.\n",
    "    # Note: Applying complete_orthonormal_basis only changes U if there are singular values equal to 0.\n",
    "\n",
    "\n",
    "\n",
    "    # 19. Return U, Sigma (not Sigma_rec), and the *transpose* of V."
   ]
  },
  {
   "cell_type": "markdown",
   "metadata": {},
   "source": [
    "# Task 2"
   ]
  },
  {
   "cell_type": "code",
   "execution_count": null,
   "metadata": {},
   "outputs": [],
   "source": [
    "# Task: Explore Image Compression Using SVD\n",
    "\n",
    "# 1. Import numpy, matplotlib.pyplot using their corresponding alias.\n",
    "# Also import Image from the PIL library."
   ]
  },
  {
   "cell_type": "code",
   "execution_count": null,
   "metadata": {},
   "outputs": [],
   "source": [
    "# 2. Load and display the original PNG image included in this folder. Use Image.open\n",
    "# and convert the image to grayscale. Call the output image."
   ]
  },
  {
   "cell_type": "code",
   "execution_count": null,
   "metadata": {},
   "outputs": [],
   "source": [
    "# 10. Import the check_eigensystem function from task_1."
   ]
  },
  {
   "cell_type": "code",
   "execution_count": null,
   "metadata": {},
   "outputs": [],
   "source": [
    "# 11. Initialize a square matrix A to be the following:\n",
    "# | 4 3 |\n",
    "# | 1 3 |"
   ]
  },
  {
   "cell_type": "code",
   "execution_count": null,
   "metadata": {},
   "outputs": [],
   "source": [
    "# 12. Use the power_method function with 1000 iterations to calculate the\n",
    "# largest eigenvalue and corresponding eigenvector of A."
   ]
  },
  {
   "cell_type": "code",
   "execution_count": null,
   "metadata": {},
   "outputs": [],
   "source": [
    "# 13. Use the check_eigensystem function to confirm that the eigenvalue and\n",
    "# eigenvector above is indeed an eigenpair of A. You will have to input\n",
    "# the eigenvalue and eigenvector each as a list (of one element each)."
   ]
  },
  {
   "cell_type": "code",
   "execution_count": null,
   "metadata": {},
   "outputs": [],
   "source": [
    "# 3. Redefine image to be the numpy array version of itself."
   ]
  },
  {
   "cell_type": "code",
   "execution_count": null,
   "metadata": {},
   "outputs": [],
   "source": [
    "# 4. Print the image (now a numpy array) to see how the image is\n",
    "# represented as a matrix."
   ]
  },
  {
   "cell_type": "code",
   "execution_count": null,
   "metadata": {},
   "outputs": [],
   "source": [
    "# 5. Use numpy.linalg.svd to decompose the image matrix into U, S, and Vt\n",
    "# from its SVD."
   ]
  },
  {
   "cell_type": "code",
   "execution_count": null,
   "metadata": {},
   "outputs": [],
   "source": [
    "# 6. Define a function called compress_image which will compress the image.\n",
    "#    - Parameters:\n",
    "#      - U: The matrix of left singular vectors of the original image.\n",
    "#      - S: The singular values of the original image.\n",
    "#      - Vt: The matrix of right singular vectors of the original image.\n",
    "#      - num_singular_values: The number of singular values to retain.\n",
    "\n",
    "\n",
    "\n",
    "    # 7. Initialize U_compressed, S_compressed, and Vt_compressed to be\n",
    "    # U, S, and Vt with only the indicated number of singular values retained.\n",
    "\n",
    "\n",
    "\n",
    "    # 8. Reconstruct the (now compressed) image using S_ compressed, U_compressed,\n",
    "    # and V_compressed from above. Call the output compressed_image.\n",
    "\n",
    "\n",
    "\n",
    "    # 9. Return the compressed image."
   ]
  },
  {
   "cell_type": "code",
   "execution_count": null,
   "metadata": {},
   "outputs": [],
   "source": [
    "# 7. Define compressed_image_5, compressed_image_10, compressed_image_30, compressed_image_50,\n",
    "# and compressed_image_100 to be the result of the image compression retaining 5, 10, 30,\n",
    "# 50, and 100 singular values respectively."
   ]
  },
  {
   "cell_type": "code",
   "execution_count": null,
   "metadata": {},
   "outputs": [],
   "source": [
    "# 8. Uncomment the code below to display the compressed images.\n",
    "\n",
    "# def plot_svd_comparison(\n",
    "#     img_1,\n",
    "#     img_2,\n",
    "#     img_3,\n",
    "#     img_4,\n",
    "#     img_5,\n",
    "#     original_image,\n",
    "# ):\n",
    "#     fig, axes = plt.subplots(2, 3, figsize=(12, 8))  # Create a 2x3 grid of subplots\n",
    "\n",
    "#     # Plot the compressed images with varying numbers of singular values\n",
    "#     axes[0, 0].imshow(img_1, cmap=\"gray\")\n",
    "#     axes[0, 0].set_title(\"Compressed Image\\n(5 SVs)\")\n",
    "#     axes[0, 0].axis(\"off\")\n",
    "\n",
    "#     axes[0, 1].imshow(img_2, cmap=\"gray\")\n",
    "#     axes[0, 1].set_title(\"Compressed Image\\n(10 SVs)\")\n",
    "#     axes[0, 1].axis(\"off\")\n",
    "\n",
    "#     axes[0, 2].imshow(img_3, cmap=\"gray\")\n",
    "#     axes[0, 2].set_title(\"Compressed Image\\n(30 SVs)\")\n",
    "#     axes[0, 2].axis(\"off\")\n",
    "\n",
    "#     axes[1, 0].imshow(img_4, cmap=\"gray\")\n",
    "#     axes[1, 0].set_title(\"Compressed Image\\n(50 SVs)\")\n",
    "#     axes[1, 0].axis(\"off\")\n",
    "\n",
    "#     axes[1, 1].imshow(img_5, cmap=\"gray\")\n",
    "#     axes[1, 1].set_title(\"Compressed Image\\n(100 SVs)\")\n",
    "#     axes[1, 1].axis(\"off\")\n",
    "\n",
    "#     axes[1, 2].imshow(original_image, cmap=\"gray\")\n",
    "#     axes[1, 2].set_title(\"Original Image\\n(1024 SVs)\")\n",
    "#     axes[1, 2].axis(\"off\")\n",
    "\n",
    "#     plt.tight_layout()  # Adjust the layout to avoid overlap\n",
    "#     return fig\n",
    "\n",
    "\n",
    "# plot_svd_comparison(\n",
    "#     compressed_image_5,\n",
    "#     compressed_image_10,\n",
    "#     compressed_image_30,\n",
    "#     compressed_image_50,\n",
    "#     compressed_image_100,\n",
    "#     image,\n",
    "# )"
   ]
  },
  {
   "cell_type": "markdown",
   "metadata": {},
   "source": [
    "# Task 3"
   ]
  },
  {
   "cell_type": "code",
   "execution_count": null,
   "metadata": {},
   "outputs": [],
   "source": [
    "# Task: Dimensionality Reduction Using SVD\n",
    "# In this assignment, you will explore how SVD can be used to help classify wines.\n",
    "\n",
    "# 1. Import numpy and matplotlib.pyplot under their corresponding aliases.\n"
   ]
  },
  {
   "cell_type": "code",
   "execution_count": null,
   "metadata": {},
   "outputs": [],
   "source": [
    "# 2. Import load_wine from sklearn.datasets."
   ]
  },
  {
   "cell_type": "code",
   "execution_count": null,
   "metadata": {},
   "outputs": [],
   "source": [
    "# 3. Import StandardScaler from sklearn.preprocessing."
   ]
  },
  {
   "cell_type": "code",
   "execution_count": null,
   "metadata": {},
   "outputs": [],
   "source": [
    "# 4. Initialize the variable data from the load_wine method."
   ]
  },
  {
   "cell_type": "code",
   "execution_count": null,
   "metadata": {},
   "outputs": [],
   "source": [
    "# 5. Initialize the variable X to be the data attribute of the data\n",
    "# variable defined above."
   ]
  },
  {
   "cell_type": "code",
   "execution_count": null,
   "metadata": {},
   "outputs": [],
   "source": [
    "# Each row of X represents 13 different properties of a wine sample.\n",
    "# Examples of properties measured are alcohol content, malic acid, ash, etc.\n",
    "# There are 178 samples represented in X (so that many rows) and each one comes from\n",
    "# one of three types of wine (in the wine world they call these cultivars).\n",
    "# So X has 178 rows and 13 columns.\n",
    "\n",
    "# 6. Print X to confirm its description above."
   ]
  },
  {
   "cell_type": "code",
   "execution_count": null,
   "metadata": {},
   "outputs": [],
   "source": [
    "# 7. Initialize the variable y to be the target attribute of the data\n",
    "# variable defined in 4."
   ]
  },
  {
   "cell_type": "code",
   "execution_count": null,
   "metadata": {},
   "outputs": [],
   "source": [
    "# The vector y has 178 rows and one column. Each row of y corresponds to a row of X.\n",
    "# The value of the column classifies what type of wine the sample came from.\n",
    "# The type of win is represented as either 0, 1, or 2.\n",
    "\n",
    "# 8. Print y to confirm its description above."
   ]
  },
  {
   "cell_type": "code",
   "execution_count": null,
   "metadata": {},
   "outputs": [],
   "source": [
    "# 9. Use StandardScaler and its fit_transform method to standardize the data in X.\n",
    "# This will ensure each column of X has a mean of 0 and variance of 1. Call the\n",
    "# standardized version of X X_standardized."
   ]
  },
  {
   "cell_type": "code",
   "execution_count": null,
   "metadata": {},
   "outputs": [],
   "source": [
    "# 10. Use numpy.linalg.svd to decompose the standardized data matrix X_standardized.\n",
    "# Call the result of the decomposition U, S, and Vt."
   ]
  },
  {
   "cell_type": "code",
   "execution_count": null,
   "metadata": {},
   "outputs": [],
   "source": [
    "# 11. Define a function similar to compress_image from task_2 which reduces the\n",
    "# dimensions of the data. Call the function reduce_dimensions.\n",
    "#    - Parameters:\n",
    "#      - U: The matrix of left singular vectors of the standardized data.\n",
    "#      - S: The singular values of the the standardized data.\n",
    "#      - Vt: The matrix of right singular vectors of the standardized data.\n",
    "#      - num_dimensions: The number of singular values / dimensions to retain.\n",
    "\n",
    "\n",
    "\n",
    "    # 12. Initialize U_reduced, S_reduced, and Vt_reduced to be\n",
    "    # U, S, and Vt with only the indicated number of singular values retained.\n",
    "\n",
    "\n",
    "\n",
    "    # 13. Reconstruct the (now reduced) data using S_reduced, U_reduced,\n",
    "    # and V_reduced from above. Call the output X_reduced.\n",
    "\n",
    "\n",
    "\n",
    "    # 14. Return the reduced data."
   ]
  },
  {
   "cell_type": "code",
   "execution_count": null,
   "metadata": {},
   "outputs": [],
   "source": [
    "# 16. Uncomment the code below to plot the original data in 2D and\n",
    "# the reduced-dimensional data in 2D. You should see that the three\n",
    "# different types of wine are more separated after dimensionality reduction.\n",
    "\n",
    "\n",
    "# def plot_data_2D(X_standardized, X_reduced_2, y):\n",
    "#     fig, ax = plt.subplots(1, 2, figsize=(12, 6))\n",
    "\n",
    "#     # Original data in 2D\n",
    "#     ax[0].scatter(X_standardized[:, 0], X_standardized[:, 1], c=y, cmap=\"viridis\")\n",
    "#     ax[0].set_title(\"Original Data (First 2 Features)\")\n",
    "#     ax[0].set_xlabel(\"Feature 1\")\n",
    "#     ax[0].set_ylabel(\"Feature 2\")\n",
    "\n",
    "#     # Reduced-dimensional data in 2D (using 2 components)\n",
    "#     ax[1].scatter(X_reduced_2[:, 0], X_reduced_2[:, 1], c=y, cmap=\"viridis\")\n",
    "#     ax[1].set_title(\"Reduced-Dimensional Data (2 Dimensions)\")\n",
    "#     ax[1].set_xlabel(\"Dimension 1\")\n",
    "#     ax[1].set_ylabel(\"Dimension 2\")\n",
    "\n",
    "#     # Adjust layout for better spacing\n",
    "#     plt.tight_layout()\n",
    "\n",
    "#     return fig\n",
    "\n",
    "\n",
    "# plot_data_2D(X_standardized, X_reduced_2, y)"
   ]
  },
  {
   "cell_type": "code",
   "execution_count": null,
   "metadata": {},
   "outputs": [],
   "source": [
    "# 16. Uncomment the code below to plot the original data in 3D and\n",
    "# the reduced-dimensional data in 3D. You should see that the three\n",
    "# different types of wine are more separated after dimensionality reduction.\n",
    "# You can use your mouse to rotate the 3D plot.\n",
    "\n",
    "\n",
    "# def plot_data_3D(X_standardized, X_reduced_3, y):\n",
    "#     fig = plt.figure(figsize=(12, 6))\n",
    "\n",
    "#     # Original data in 3D\n",
    "#     ax1 = fig.add_subplot(121, projection=\"3d\")\n",
    "#     ax1.scatter(\n",
    "#         X_standardized[:, 0],\n",
    "#         X_standardized[:, 1],\n",
    "#         X_standardized[:, 2],\n",
    "#         c=y,\n",
    "#         cmap=\"viridis\",\n",
    "#     )\n",
    "#     ax1.set_title(\"Original Data (First 3 Features)\")\n",
    "#     ax1.set_xlabel(\"Feature 1\")\n",
    "#     ax1.set_ylabel(\"Feature 2\")\n",
    "#     ax1.set_zlabel(\"Feature 3\")\n",
    "\n",
    "#     # Reduced-dimensional data in 3D (using 3 components)\n",
    "#     ax2 = fig.add_subplot(122, projection=\"3d\")\n",
    "#     ax2.scatter(\n",
    "#         X_reduced_3[:, 0],\n",
    "#         X_reduced_3[:, 1],\n",
    "#         X_reduced_3[:, 2],\n",
    "#         c=y,\n",
    "#         cmap=\"viridis\",\n",
    "#     )\n",
    "#     ax2.set_title(\"Reduced-Dimensional Data (3 Dimensions)\")\n",
    "#     ax2.set_xlabel(\"Dimension 1\")\n",
    "#     ax2.set_ylabel(\"Dimension 2\")\n",
    "#     ax2.set_zlabel(\"Dimension 3\")\n",
    "\n",
    "#     # Adjust layout for better spacing\n",
    "#     plt.tight_layout()\n",
    "\n",
    "#     return fig\n",
    "\n",
    "\n",
    "# plot_data_3D(X_standardized, X_reduced_3, y)"
   ]
  }
 ],
 "metadata": {
  "language_info": {
   "name": "python"
  }
 },
 "nbformat": 4,
 "nbformat_minor": 2
}
